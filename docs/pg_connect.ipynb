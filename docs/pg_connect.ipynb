{
 "cells": [
  {
   "cell_type": "markdown",
   "id": "a1e13164",
   "metadata": {},
   "source": [
    "# Connection to Postgres"
   ]
  },
  {
   "cell_type": "code",
   "execution_count": 11,
   "id": "a0b9500b",
   "metadata": {},
   "outputs": [
    {
     "name": "stdout",
     "output_type": "stream",
     "text": [
      "Database configuration loaded\n"
     ]
    }
   ],
   "source": [
    "import { load } from '@std/dotenv'\n",
    "\n",
    "// Ensure env vars are loaded before creating config\n",
    "await load({ export: true, envPath: './temp/.env.prod' })\n",
    "\n",
    "const DB_CONFIG = {\n",
    "  hostname: Deno.env.get('PGHOST') ?? '127.0.0.1',\n",
    "  port: Number(Deno.env.get('PGPORT') ?? 5432),\n",
    "  user: Deno.env.get('PGUSER') ?? 'deno',\n",
    "  password: Deno.env.get('PGPASSWORD') ?? '',\n",
    "  database: Deno.env.get('PGDATABASE') ?? 'denodb',\n",
    "}\n",
    "\n",
    "console.log('Database configuration loaded')"
   ]
  },
  {
   "cell_type": "code",
   "execution_count": 12,
   "id": "3e8292e3",
   "metadata": {},
   "outputs": [
    {
     "name": "stderr",
     "output_type": "stream",
     "text": [
      "\u001b[1m\u001b[33mTLS connection failed with message: \u001b[39m\u001b[22minvalid peer certificate: Other(OtherError(CaUsedAsEndEntity))\n",
      "\u001b[1mDefaulting to non-encrypted connection\u001b[22m\n"
     ]
    },
    {
     "name": "stdout",
     "output_type": "stream",
     "text": [
      "Connected to the database\n"
     ]
    }
   ],
   "source": [
    "import { Client } from 'postgres'\n",
    "\n",
    "let client: Client | null = null\n",
    "\n",
    "async function getClient(): Promise<Client> {\n",
    "  if (!client) {\n",
    "    client = new Client(DB_CONFIG)\n",
    "    await client.connect()\n",
    "  }\n",
    "  return client\n",
    "}\n",
    "\n",
    "await getClient().then(() => {\n",
    "  console.log('Connected to the database')\n",
    "})\n",
    ".catch((error) => {\n",
    "  console.error('Failed to connect to the database:', error)\n",
    "})\n",
    "\n",
    "async function query<T = unknown>(\n",
    "  sql: string,\n",
    "  params: unknown[] = [],\n",
    "): Promise<T[]> {\n",
    "  try {\n",
    "    const dbClient = await getClient()\n",
    "    const result = await dbClient.queryObject<T>(sql, params)\n",
    "    return result.rows\n",
    "  } catch (error) {\n",
    "    console.error('Database query error:', error)\n",
    "    throw error\n",
    "  }\n",
    "}\n",
    "\n"
   ]
  },
  {
   "cell_type": "markdown",
   "id": "33af6fa2",
   "metadata": {},
   "source": [
    "Get All the todos"
   ]
  },
  {
   "cell_type": "code",
   "execution_count": 13,
   "id": "959549e8",
   "metadata": {},
   "outputs": [
    {
     "name": "stdout",
     "output_type": "stream",
     "text": [
      "Todos: [\n",
      "  {\n",
      "    id: 1,\n",
      "    title: \"Learn Deno\",\n",
      "    completed: false,\n",
      "    created_at: 2025-08-30T03:32:05.642Z,\n",
      "    updated_at: 2025-08-30T03:33:00.811Z\n",
      "  },\n",
      "  {\n",
      "    id: 2,\n",
      "    title: \"Build HTMX app\",\n",
      "    completed: false,\n",
      "    created_at: 2025-08-30T03:32:05.642Z,\n",
      "    updated_at: 2025-08-30T03:33:02.820Z\n",
      "  },\n",
      "  {\n",
      "    id: 3,\n",
      "    title: \"Deploy to production\",\n",
      "    completed: true,\n",
      "    created_at: 2025-08-30T03:32:05.642Z,\n",
      "    updated_at: 2025-08-30T03:38:16.724Z\n",
      "  }\n",
      "]\n"
     ]
    }
   ],
   "source": [
    "interface Todo {\n",
    "  id: number\n",
    "  title: string\n",
    "  completed: boolean\n",
    "  created_at: Date\n",
    "  updated_at: Date\n",
    "}\n",
    "\n",
    "await query<Todo>('SELECT * FROM todos ORDER BY created_at DESC').then((todos) => {\n",
    "  console.log('Todos:', todos)\n",
    "}).catch((error) => {\n",
    "  console.error('Error fetching todos:', error)\n",
    "})"
   ]
  }
 ],
 "metadata": {
  "kernelspec": {
   "display_name": "Deno",
   "language": "typescript",
   "name": "deno"
  },
  "language_info": {
   "codemirror_mode": "typescript",
   "file_extension": ".ts",
   "mimetype": "text/x.typescript",
   "name": "typescript",
   "nbconvert_exporter": "script",
   "pygments_lexer": "typescript",
   "version": "5.8.3"
  }
 },
 "nbformat": 4,
 "nbformat_minor": 5
}
